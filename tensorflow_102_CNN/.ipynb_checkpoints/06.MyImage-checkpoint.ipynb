{
 "cells": [
  {
   "cell_type": "markdown",
   "metadata": {
    "id": "rooGEW7V6hFM"
   },
   "source": [
    "# Using My Image"
   ]
  },
  {
   "cell_type": "code",
   "execution_count": 1,
   "metadata": {
    "executionInfo": {
     "elapsed": 2656,
     "status": "ok",
     "timestamp": 1610192086298,
     "user": {
      "displayName": "Mark Lee",
      "photoUrl": "",
      "userId": "02138563481255471999"
     },
     "user_tz": -540
    },
    "id": "xnpu1gi77Dg3"
   },
   "outputs": [],
   "source": [
    "!wget -q https://raw.githubusercontent.com/blackdew/tensorflow1/master/csv/notMNIST_small.tar.gz\n",
    "!tar -xzf notMNIST_small.tar.gz"
   ]
  },
  {
   "cell_type": "code",
   "execution_count": 4,
   "metadata": {
    "colab": {
     "base_uri": "https://localhost:8080/"
    },
    "executionInfo": {
     "elapsed": 3337,
     "status": "ok",
     "timestamp": 1610192477908,
     "user": {
      "displayName": "Mark Lee",
      "photoUrl": "",
      "userId": "02138563481255471999"
     },
     "user_tz": -540
    },
    "id": "YEYXsaAz7UMS",
    "outputId": "d109d32a-6cfd-4436-813d-df9304ae3171"
   },
   "outputs": [
    {
     "name": "stdout",
     "output_type": "stream",
     "text": [
      "(18724, 28, 28) (18724,)\n",
      "(18724, 28, 28, 1) (18724, 10)\n"
     ]
    }
   ],
   "source": [
    "# Read Image Data\n",
    "import glob\n",
    "import numpy as np\n",
    "import pandas as pd\n",
    "import matplotlib.pyplot as plt\n",
    "\n",
    "paths = glob.glob('./notMNIST_small/*/*.png')\n",
    "paths = np.random.permutation(paths)\n",
    "X_data = np.array([plt.imread(paths[i]) for i in range(len(paths))])\n",
    "y_data = np.array([paths[i].split('/')[-2] for i in range(len(paths))])\n",
    "print(X_data.shape, y_data.shape)\n",
    "X_data = X_data.reshape(18724,28,28,1)\n",
    "y_data = pd.get_dummies(y_data)\n",
    "print(X_data.shape, y_data.shape)"
   ]
  },
  {
   "cell_type": "code",
   "execution_count": 6,
   "metadata": {
    "executionInfo": {
     "elapsed": 2735,
     "status": "ok",
     "timestamp": 1610192506327,
     "user": {
      "displayName": "Mark Lee",
      "photoUrl": "",
      "userId": "02138563481255471999"
     },
     "user_tz": -540
    },
    "id": "sTkieTw38NQ5"
   },
   "outputs": [],
   "source": [
    "# Making Model\n",
    "import tensorflow as tf\n",
    "X = tf.keras.layers.Input(shape=(28,28,1))\n",
    "H = tf.keras.layers.Conv2D(6, kernel_size=5, activation='swish')(X)\n",
    "H = tf.keras.layers.MaxPool2D()(H)\n",
    "\n",
    "H = tf.keras.layers.Conv2D(16, kernel_size=5, activation='swish')(H)\n",
    "H = tf.keras.layers.MaxPool2D()(H)\n",
    "\n",
    "H = tf.keras.layers.Flatten()(H)\n",
    "H = tf.keras.layers.Dense(120, activation='swish')(H)\n",
    "H = tf.keras.layers.Dense(84, activation='swish')(H)\n",
    "Y = tf.keras.layers.Dense(10, activation='softmax')(H)\n",
    "\n",
    "model = tf.keras.models.Model(X, Y)\n",
    "model.compile(loss='categorical_crossentropy', metrics='accuracy')"
   ]
  },
  {
   "cell_type": "code",
   "execution_count": 7,
   "metadata": {
    "colab": {
     "base_uri": "https://localhost:8080/"
    },
    "executionInfo": {
     "elapsed": 873,
     "status": "ok",
     "timestamp": 1610192546032,
     "user": {
      "displayName": "Mark Lee",
      "photoUrl": "",
      "userId": "02138563481255471999"
     },
     "user_tz": -540
    },
    "id": "qshMViS883W-",
    "outputId": "86f5400b-cdea-44ba-e791-467ad897601d"
   },
   "outputs": [
    {
     "name": "stdout",
     "output_type": "stream",
     "text": [
      "Model: \"model\"\n",
      "_________________________________________________________________\n",
      "Layer (type)                 Output Shape              Param #   \n",
      "=================================================================\n",
      "input_1 (InputLayer)         [(None, 28, 28, 1)]       0         \n",
      "_________________________________________________________________\n",
      "conv2d (Conv2D)              (None, 24, 24, 6)         156       \n",
      "_________________________________________________________________\n",
      "max_pooling2d (MaxPooling2D) (None, 12, 12, 6)         0         \n",
      "_________________________________________________________________\n",
      "conv2d_1 (Conv2D)            (None, 8, 8, 16)          2416      \n",
      "_________________________________________________________________\n",
      "max_pooling2d_1 (MaxPooling2 (None, 4, 4, 16)          0         \n",
      "_________________________________________________________________\n",
      "flatten (Flatten)            (None, 256)               0         \n",
      "_________________________________________________________________\n",
      "dense (Dense)                (None, 120)               30840     \n",
      "_________________________________________________________________\n",
      "dense_1 (Dense)              (None, 84)                10164     \n",
      "_________________________________________________________________\n",
      "dense_2 (Dense)              (None, 10)                850       \n",
      "=================================================================\n",
      "Total params: 44,426\n",
      "Trainable params: 44,426\n",
      "Non-trainable params: 0\n",
      "_________________________________________________________________\n"
     ]
    }
   ],
   "source": [
    "model.summary()"
   ]
  },
  {
   "cell_type": "code",
   "execution_count": 8,
   "metadata": {
    "colab": {
     "base_uri": "https://localhost:8080/"
    },
    "executionInfo": {
     "elapsed": 77609,
     "status": "ok",
     "timestamp": 1610192688118,
     "user": {
      "displayName": "Mark Lee",
      "photoUrl": "",
      "userId": "02138563481255471999"
     },
     "user_tz": -540
    },
    "id": "pipfAaQU9GVi",
    "outputId": "0ca2986d-4b07-4c42-ea0c-f2f253512dfc"
   },
   "outputs": [
    {
     "name": "stdout",
     "output_type": "stream",
     "text": [
      "Epoch 1/10\n",
      "586/586 [==============================] - 9s 13ms/step - loss: 0.9070 - accuracy: 0.7181\n",
      "Epoch 2/10\n",
      "586/586 [==============================] - 8s 13ms/step - loss: 0.3485 - accuracy: 0.8963\n",
      "Epoch 3/10\n",
      "586/586 [==============================] - 8s 13ms/step - loss: 0.2885 - accuracy: 0.9095\n",
      "Epoch 4/10\n",
      "586/586 [==============================] - 8s 13ms/step - loss: 0.2317 - accuracy: 0.9311\n",
      "Epoch 5/10\n",
      "586/586 [==============================] - 7s 13ms/step - loss: 0.1999 - accuracy: 0.9395\n",
      "Epoch 6/10\n",
      "586/586 [==============================] - 8s 13ms/step - loss: 0.1710 - accuracy: 0.9444\n",
      "Epoch 7/10\n",
      "586/586 [==============================] - 8s 13ms/step - loss: 0.1472 - accuracy: 0.9533\n",
      "Epoch 8/10\n",
      "586/586 [==============================] - 8s 13ms/step - loss: 0.1396 - accuracy: 0.9551\n",
      "Epoch 9/10\n",
      "586/586 [==============================] - 7s 13ms/step - loss: 0.1174 - accuracy: 0.9629\n",
      "Epoch 10/10\n",
      "586/586 [==============================] - 8s 13ms/step - loss: 0.1015 - accuracy: 0.9671\n"
     ]
    },
    {
     "data": {
      "text/plain": [
       "<tensorflow.python.keras.callbacks.History at 0x7f0dea7120f0>"
      ]
     },
     "execution_count": 8,
     "metadata": {
      "tags": []
     },
     "output_type": "execute_result"
    }
   ],
   "source": [
    "# Fitting Model\n",
    "model.fit(X_data, y_data, epochs=10)"
   ]
  },
  {
   "cell_type": "code",
   "execution_count": null,
   "metadata": {
    "id": "QxDQo2go54W6"
   },
   "outputs": [],
   "source": [
    "# Using Model\n",
    "pred = model.predict(X_data[:5])\n",
    "pd.DataFrame(pred).round(2)"
   ]
  },
  {
   "cell_type": "code",
   "execution_count": null,
   "metadata": {
    "id": "K5hG2dNI6G24"
   },
   "outputs": [],
   "source": [
    "y_data[:5]"
   ]
  }
 ],
 "metadata": {
  "colab": {
   "authorship_tag": "ABX9TyPa0t9PXzRBg8lfXy1ENM2w",
   "name": "06.MyImage.ipynb",
   "provenance": []
  },
  "kernelspec": {
   "display_name": "Python 3",
   "language": "python",
   "name": "python3"
  },
  "language_info": {
   "codemirror_mode": {
    "name": "ipython",
    "version": 3
   },
   "file_extension": ".py",
   "mimetype": "text/x-python",
   "name": "python",
   "nbconvert_exporter": "python",
   "pygments_lexer": "ipython3",
   "version": "3.8.3"
  }
 },
 "nbformat": 4,
 "nbformat_minor": 1
}
