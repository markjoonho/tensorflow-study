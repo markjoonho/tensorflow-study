{
 "cells": [
  {
   "cell_type": "markdown",
   "metadata": {
    "id": "EvtUvYptPSc8"
   },
   "source": [
    "# Boston Housing Data\n",
    "1. Preparing Past data"
   ]
  },
  {
   "cell_type": "code",
   "execution_count": 2,
   "metadata": {
    "colab": {
     "base_uri": "https://localhost:8080/"
    },
    "executionInfo": {
     "elapsed": 764,
     "status": "ok",
     "timestamp": 1610081876718,
     "user": {
      "displayName": "Mark Lee",
      "photoUrl": "",
      "userId": "02138563481255471999"
     },
     "user_tz": -540
    },
    "id": "mN1HXMqXPT5G",
    "outputId": "4fe2aa40-176f-4de2-a7bd-a20e0b0621ff"
   },
   "outputs": [
    {
     "name": "stdout",
     "output_type": "stream",
     "text": [
      "(506, 13) (506, 1)\n"
     ]
    }
   ],
   "source": [
    "import pandas as pd\n",
    "url = \"https://raw.githubusercontent.com/blackdew/tensorflow1/master/csv/boston.csv\"\n",
    "data = pd.read_csv(url)\n",
    "features = data.columns.difference(['medv'])\n",
    "X_data = data[features]\n",
    "y_data = data[['medv']]\n",
    "print(X_data.shape, y_data.shape)"
   ]
  },
  {
   "cell_type": "markdown",
   "metadata": {
    "id": "B47ng1mBPUml"
   },
   "source": [
    "2. Make Structure"
   ]
  },
  {
   "cell_type": "code",
   "execution_count": 3,
   "metadata": {
    "executionInfo": {
     "elapsed": 2969,
     "status": "ok",
     "timestamp": 1610081879731,
     "user": {
      "displayName": "Mark Lee",
      "photoUrl": "",
      "userId": "02138563481255471999"
     },
     "user_tz": -540
    },
    "id": "1XGs70z7PU6U"
   },
   "outputs": [],
   "source": [
    "import tensorflow as tf\n",
    "X = tf.keras.layers.Input(shape=[13])\n",
    "H = tf.keras.layers.Dense(10, activation='swish')(X)\n",
    "Y = tf.keras.layers.Dense(1)(H)\n",
    "model = tf.keras.models.Model(X, Y)\n",
    "model.compile(loss='mse')"
   ]
  },
  {
   "cell_type": "code",
   "execution_count": 4,
   "metadata": {
    "colab": {
     "base_uri": "https://localhost:8080/"
    },
    "executionInfo": {
     "elapsed": 2597,
     "status": "ok",
     "timestamp": 1610081879733,
     "user": {
      "displayName": "Mark Lee",
      "photoUrl": "",
      "userId": "02138563481255471999"
     },
     "user_tz": -540
    },
    "id": "ntgpRM2GVaU7",
    "outputId": "c9879785-000f-409b-8ba6-cfafb948c35d"
   },
   "outputs": [
    {
     "name": "stdout",
     "output_type": "stream",
     "text": [
      "Model: \"model\"\n",
      "_________________________________________________________________\n",
      "Layer (type)                 Output Shape              Param #   \n",
      "=================================================================\n",
      "input_1 (InputLayer)         [(None, 13)]              0         \n",
      "_________________________________________________________________\n",
      "dense (Dense)                (None, 10)                140       \n",
      "_________________________________________________________________\n",
      "dense_1 (Dense)              (None, 1)                 11        \n",
      "=================================================================\n",
      "Total params: 151\n",
      "Trainable params: 151\n",
      "Non-trainable params: 0\n",
      "_________________________________________________________________\n"
     ]
    }
   ],
   "source": [
    "model.summary()"
   ]
  },
  {
   "cell_type": "markdown",
   "metadata": {
    "id": "rlxZ6LPsPVQa"
   },
   "source": [
    "3. Fit Model using Data"
   ]
  },
  {
   "cell_type": "code",
   "execution_count": 9,
   "metadata": {
    "colab": {
     "base_uri": "https://localhost:8080/"
    },
    "executionInfo": {
     "elapsed": 878,
     "status": "ok",
     "timestamp": 1610081937401,
     "user": {
      "displayName": "Mark Lee",
      "photoUrl": "",
      "userId": "02138563481255471999"
     },
     "user_tz": -540
    },
    "id": "kr9GZrznPVew",
    "outputId": "79ceb242-04ff-4896-c0d6-f181c6b064f2"
   },
   "outputs": [
    {
     "name": "stdout",
     "output_type": "stream",
     "text": [
      "Epoch 1/10\n",
      "16/16 [==============================] - 0s 1ms/step - loss: 22.9448\n",
      "Epoch 2/10\n",
      "16/16 [==============================] - 0s 1ms/step - loss: 23.0253\n",
      "Epoch 3/10\n",
      "16/16 [==============================] - 0s 1ms/step - loss: 23.3045\n",
      "Epoch 4/10\n",
      "16/16 [==============================] - 0s 1ms/step - loss: 22.5753\n",
      "Epoch 5/10\n",
      "16/16 [==============================] - 0s 1ms/step - loss: 23.2512\n",
      "Epoch 6/10\n",
      "16/16 [==============================] - 0s 1ms/step - loss: 23.0005\n",
      "Epoch 7/10\n",
      "16/16 [==============================] - 0s 1ms/step - loss: 22.9559\n",
      "Epoch 8/10\n",
      "16/16 [==============================] - 0s 1ms/step - loss: 22.9920\n",
      "Epoch 9/10\n",
      "16/16 [==============================] - 0s 1ms/step - loss: 23.0056\n",
      "Epoch 10/10\n",
      "16/16 [==============================] - 0s 2ms/step - loss: 22.6173\n"
     ]
    },
    {
     "data": {
      "text/plain": [
       "<tensorflow.python.keras.callbacks.History at 0x7fecaff56b70>"
      ]
     },
     "execution_count": 9,
     "metadata": {
      "tags": []
     },
     "output_type": "execute_result"
    }
   ],
   "source": [
    "model.fit(X_data, y_data, epochs=10)"
   ]
  },
  {
   "cell_type": "markdown",
   "metadata": {
    "id": "ZS1swERmPV5P"
   },
   "source": [
    "4. Use Model"
   ]
  },
  {
   "cell_type": "code",
   "execution_count": 13,
   "metadata": {
    "colab": {
     "base_uri": "https://localhost:8080/"
    },
    "executionInfo": {
     "elapsed": 1159,
     "status": "ok",
     "timestamp": 1610081993470,
     "user": {
      "displayName": "Mark Lee",
      "photoUrl": "",
      "userId": "02138563481255471999"
     },
     "user_tz": -540
    },
    "id": "BGliO-HJPWGq",
    "outputId": "588f57ce-101e-4be5-8e6c-3ca142b8b134"
   },
   "outputs": [
    {
     "name": "stdout",
     "output_type": "stream",
     "text": [
      "[[31.798334]\n",
      " [25.95069 ]\n",
      " [31.771034]\n",
      " [31.322468]\n",
      " [29.677029]]\n"
     ]
    }
   ],
   "source": [
    "print(model.predict(X_data[:5]))"
   ]
  },
  {
   "cell_type": "code",
   "execution_count": 14,
   "metadata": {
    "colab": {
     "base_uri": "https://localhost:8080/",
     "height": 204
    },
    "executionInfo": {
     "elapsed": 1011,
     "status": "ok",
     "timestamp": 1610081995496,
     "user": {
      "displayName": "Mark Lee",
      "photoUrl": "",
      "userId": "02138563481255471999"
     },
     "user_tz": -540
    },
    "id": "iqfI5feYXS4u",
    "outputId": "66b89b80-9f39-4103-d6ae-73c3acc85fb6"
   },
   "outputs": [
    {
     "data": {
      "text/html": [
       "<div>\n",
       "<style scoped>\n",
       "    .dataframe tbody tr th:only-of-type {\n",
       "        vertical-align: middle;\n",
       "    }\n",
       "\n",
       "    .dataframe tbody tr th {\n",
       "        vertical-align: top;\n",
       "    }\n",
       "\n",
       "    .dataframe thead th {\n",
       "        text-align: right;\n",
       "    }\n",
       "</style>\n",
       "<table border=\"1\" class=\"dataframe\">\n",
       "  <thead>\n",
       "    <tr style=\"text-align: right;\">\n",
       "      <th></th>\n",
       "      <th>medv</th>\n",
       "    </tr>\n",
       "  </thead>\n",
       "  <tbody>\n",
       "    <tr>\n",
       "      <th>0</th>\n",
       "      <td>24.0</td>\n",
       "    </tr>\n",
       "    <tr>\n",
       "      <th>1</th>\n",
       "      <td>21.6</td>\n",
       "    </tr>\n",
       "    <tr>\n",
       "      <th>2</th>\n",
       "      <td>34.7</td>\n",
       "    </tr>\n",
       "    <tr>\n",
       "      <th>3</th>\n",
       "      <td>33.4</td>\n",
       "    </tr>\n",
       "    <tr>\n",
       "      <th>4</th>\n",
       "      <td>36.2</td>\n",
       "    </tr>\n",
       "  </tbody>\n",
       "</table>\n",
       "</div>"
      ],
      "text/plain": [
       "   medv\n",
       "0  24.0\n",
       "1  21.6\n",
       "2  34.7\n",
       "3  33.4\n",
       "4  36.2"
      ]
     },
     "execution_count": 14,
     "metadata": {
      "tags": []
     },
     "output_type": "execute_result"
    }
   ],
   "source": [
    "y_data[:5]"
   ]
  },
  {
   "cell_type": "markdown",
   "metadata": {
    "id": "l6Vqh4bNPZiZ"
   },
   "source": [
    "# Iris Data\n",
    "1. Preparing Past data"
   ]
  },
  {
   "cell_type": "code",
   "execution_count": 15,
   "metadata": {
    "colab": {
     "base_uri": "https://localhost:8080/"
    },
    "executionInfo": {
     "elapsed": 671,
     "status": "ok",
     "timestamp": 1610082025095,
     "user": {
      "displayName": "Mark Lee",
      "photoUrl": "",
      "userId": "02138563481255471999"
     },
     "user_tz": -540
    },
    "id": "VTxnFemuPZuI",
    "outputId": "1a2a8bf3-fb9b-4325-c7f7-ca484668d4f5"
   },
   "outputs": [
    {
     "name": "stdout",
     "output_type": "stream",
     "text": [
      "(150, 4) (150, 3)\n"
     ]
    }
   ],
   "source": [
    "import pandas as pd\n",
    "url = \"https://raw.githubusercontent.com/blackdew/tensorflow1/master/csv/iris.csv\"\n",
    "data = pd.read_csv(url)\n",
    "# one-hot encoding\n",
    "encoding = pd.get_dummies(data)\n",
    "\n",
    "# divide variables\n",
    "features = data.columns.difference(['품종'])\n",
    "features_y = encoding.columns.difference(features)\n",
    "X_data = data[features]\n",
    "y_data = encoding[features_y]\n",
    "print(X_data.shape, y_data.shape)"
   ]
  },
  {
   "cell_type": "markdown",
   "metadata": {
    "id": "uw_UiH40PZ4h"
   },
   "source": [
    "2. Make Structure"
   ]
  },
  {
   "cell_type": "code",
   "execution_count": 18,
   "metadata": {
    "executionInfo": {
     "elapsed": 1232,
     "status": "ok",
     "timestamp": 1610082067110,
     "user": {
      "displayName": "Mark Lee",
      "photoUrl": "",
      "userId": "02138563481255471999"
     },
     "user_tz": -540
    },
    "id": "9E6V08jjPaCq"
   },
   "outputs": [],
   "source": [
    "X = tf.keras.layers.Input([4])\n",
    "H = tf.keras.layers.Dense(8, activation='swish')(X)\n",
    "H = tf.keras.layers.Dense(8, activation='swish')(H)\n",
    "H = tf.keras.layers.Dense(8, activation='swish')(H)\n",
    "Y = tf.keras.layers.Dense(3, activation='softmax')(H)\n",
    "model = tf.keras.models.Model(X, Y)\n",
    "model.compile(loss='categorical_crossentropy', metrics='accuracy')"
   ]
  },
  {
   "cell_type": "code",
   "execution_count": 19,
   "metadata": {
    "colab": {
     "base_uri": "https://localhost:8080/"
    },
    "executionInfo": {
     "elapsed": 665,
     "status": "ok",
     "timestamp": 1610082068529,
     "user": {
      "displayName": "Mark Lee",
      "photoUrl": "",
      "userId": "02138563481255471999"
     },
     "user_tz": -540
    },
    "id": "tlnpFePNV4Ds",
    "outputId": "a7589026-5d44-4515-a8da-1fc8c9cd9e00"
   },
   "outputs": [
    {
     "name": "stdout",
     "output_type": "stream",
     "text": [
      "Model: \"model_2\"\n",
      "_________________________________________________________________\n",
      "Layer (type)                 Output Shape              Param #   \n",
      "=================================================================\n",
      "input_3 (InputLayer)         [(None, 4)]               0         \n",
      "_________________________________________________________________\n",
      "dense_4 (Dense)              (None, 8)                 40        \n",
      "_________________________________________________________________\n",
      "dense_5 (Dense)              (None, 8)                 72        \n",
      "_________________________________________________________________\n",
      "dense_6 (Dense)              (None, 8)                 72        \n",
      "_________________________________________________________________\n",
      "dense_7 (Dense)              (None, 3)                 27        \n",
      "=================================================================\n",
      "Total params: 211\n",
      "Trainable params: 211\n",
      "Non-trainable params: 0\n",
      "_________________________________________________________________\n"
     ]
    }
   ],
   "source": [
    "model.summary()"
   ]
  },
  {
   "cell_type": "markdown",
   "metadata": {
    "id": "M-F7BmjkPaMl"
   },
   "source": [
    "3. Fit Model using Data"
   ]
  },
  {
   "cell_type": "code",
   "execution_count": 24,
   "metadata": {
    "colab": {
     "base_uri": "https://localhost:8080/"
    },
    "executionInfo": {
     "elapsed": 576,
     "status": "ok",
     "timestamp": 1610082116021,
     "user": {
      "displayName": "Mark Lee",
      "photoUrl": "",
      "userId": "02138563481255471999"
     },
     "user_tz": -540
    },
    "id": "rHlcY1-lPaVX",
    "outputId": "13496435-4e7d-4458-a341-0a1d7c9b2e4f"
   },
   "outputs": [
    {
     "name": "stdout",
     "output_type": "stream",
     "text": [
      "Epoch 1/10\n",
      "5/5 [==============================] - 0s 2ms/step - loss: 0.0501 - accuracy: 0.9800\n",
      "Epoch 2/10\n",
      "5/5 [==============================] - 0s 2ms/step - loss: 0.0459 - accuracy: 0.9800\n",
      "Epoch 3/10\n",
      "5/5 [==============================] - 0s 3ms/step - loss: 0.0491 - accuracy: 0.9800\n",
      "Epoch 4/10\n",
      "5/5 [==============================] - 0s 3ms/step - loss: 0.0483 - accuracy: 0.9867\n",
      "Epoch 5/10\n",
      "5/5 [==============================] - 0s 2ms/step - loss: 0.0497 - accuracy: 0.9800\n",
      "Epoch 6/10\n",
      "5/5 [==============================] - 0s 2ms/step - loss: 0.0479 - accuracy: 0.9800\n",
      "Epoch 7/10\n",
      "5/5 [==============================] - 0s 2ms/step - loss: 0.0441 - accuracy: 0.9800\n",
      "Epoch 8/10\n",
      "5/5 [==============================] - 0s 3ms/step - loss: 0.0521 - accuracy: 0.9800\n",
      "Epoch 9/10\n",
      "5/5 [==============================] - 0s 2ms/step - loss: 0.0454 - accuracy: 0.9800\n",
      "Epoch 10/10\n",
      "5/5 [==============================] - 0s 2ms/step - loss: 0.0497 - accuracy: 0.9867\n"
     ]
    },
    {
     "data": {
      "text/plain": [
       "<tensorflow.python.keras.callbacks.History at 0x7feca7afd2b0>"
      ]
     },
     "execution_count": 24,
     "metadata": {
      "tags": []
     },
     "output_type": "execute_result"
    }
   ],
   "source": [
    "model.fit(X_data, y_data, epochs=10)"
   ]
  },
  {
   "cell_type": "markdown",
   "metadata": {
    "id": "_NtB5_BbPadc"
   },
   "source": [
    "4. Use Model"
   ]
  },
  {
   "cell_type": "code",
   "execution_count": 26,
   "metadata": {
    "colab": {
     "base_uri": "https://localhost:8080/"
    },
    "executionInfo": {
     "elapsed": 744,
     "status": "ok",
     "timestamp": 1610082140792,
     "user": {
      "displayName": "Mark Lee",
      "photoUrl": "",
      "userId": "02138563481255471999"
     },
     "user_tz": -540
    },
    "id": "_9LoJeY7PamY",
    "outputId": "e043480b-e3c7-4fb1-c42e-2a53c4243a57"
   },
   "outputs": [
    {
     "name": "stdout",
     "output_type": "stream",
     "text": [
      "[[9.9999988e-01 3.0870251e-09 1.3782943e-07]\n",
      " [9.9999964e-01 1.4874250e-08 3.3726769e-07]\n",
      " [9.9999964e-01 1.1989858e-08 2.9930169e-07]\n",
      " [9.9999952e-01 3.0405282e-08 4.4708321e-07]\n",
      " [9.9999988e-01 3.1263581e-09 1.3463007e-07]]\n"
     ]
    }
   ],
   "source": [
    "print(model.predict(X_data[:5]))"
   ]
  },
  {
   "cell_type": "code",
   "execution_count": 27,
   "metadata": {
    "colab": {
     "base_uri": "https://localhost:8080/",
     "height": 204
    },
    "executionInfo": {
     "elapsed": 569,
     "status": "ok",
     "timestamp": 1610082150176,
     "user": {
      "displayName": "Mark Lee",
      "photoUrl": "",
      "userId": "02138563481255471999"
     },
     "user_tz": -540
    },
    "id": "zAO5zESLX6FA",
    "outputId": "12633108-5c45-41b5-ff50-4619581426a0"
   },
   "outputs": [
    {
     "data": {
      "text/html": [
       "<div>\n",
       "<style scoped>\n",
       "    .dataframe tbody tr th:only-of-type {\n",
       "        vertical-align: middle;\n",
       "    }\n",
       "\n",
       "    .dataframe tbody tr th {\n",
       "        vertical-align: top;\n",
       "    }\n",
       "\n",
       "    .dataframe thead th {\n",
       "        text-align: right;\n",
       "    }\n",
       "</style>\n",
       "<table border=\"1\" class=\"dataframe\">\n",
       "  <thead>\n",
       "    <tr style=\"text-align: right;\">\n",
       "      <th></th>\n",
       "      <th>품종_setosa</th>\n",
       "      <th>품종_versicolor</th>\n",
       "      <th>품종_virginica</th>\n",
       "    </tr>\n",
       "  </thead>\n",
       "  <tbody>\n",
       "    <tr>\n",
       "      <th>0</th>\n",
       "      <td>1</td>\n",
       "      <td>0</td>\n",
       "      <td>0</td>\n",
       "    </tr>\n",
       "    <tr>\n",
       "      <th>1</th>\n",
       "      <td>1</td>\n",
       "      <td>0</td>\n",
       "      <td>0</td>\n",
       "    </tr>\n",
       "    <tr>\n",
       "      <th>2</th>\n",
       "      <td>1</td>\n",
       "      <td>0</td>\n",
       "      <td>0</td>\n",
       "    </tr>\n",
       "    <tr>\n",
       "      <th>3</th>\n",
       "      <td>1</td>\n",
       "      <td>0</td>\n",
       "      <td>0</td>\n",
       "    </tr>\n",
       "    <tr>\n",
       "      <th>4</th>\n",
       "      <td>1</td>\n",
       "      <td>0</td>\n",
       "      <td>0</td>\n",
       "    </tr>\n",
       "  </tbody>\n",
       "</table>\n",
       "</div>"
      ],
      "text/plain": [
       "   품종_setosa  품종_versicolor  품종_virginica\n",
       "0          1              0             0\n",
       "1          1              0             0\n",
       "2          1              0             0\n",
       "3          1              0             0\n",
       "4          1              0             0"
      ]
     },
     "execution_count": 27,
     "metadata": {
      "tags": []
     },
     "output_type": "execute_result"
    }
   ],
   "source": [
    "y_data[:5]"
   ]
  },
  {
   "cell_type": "code",
   "execution_count": 28,
   "metadata": {
    "colab": {
     "base_uri": "https://localhost:8080/"
    },
    "executionInfo": {
     "elapsed": 888,
     "status": "ok",
     "timestamp": 1610082165158,
     "user": {
      "displayName": "Mark Lee",
      "photoUrl": "",
      "userId": "02138563481255471999"
     },
     "user_tz": -540
    },
    "id": "-QEFJuseX-S_",
    "outputId": "f81fc723-d608-4b1f-bc69-9a8a67600d64"
   },
   "outputs": [
    {
     "name": "stdout",
     "output_type": "stream",
     "text": [
      "[[1.5839497e-07 2.2390797e-03 9.9776077e-01]\n",
      " [5.9836015e-07 1.4210261e-02 9.8578912e-01]\n",
      " [2.2776952e-07 1.6989678e-02 9.8301011e-01]\n",
      " [6.3912630e-08 5.8771484e-04 9.9941218e-01]\n",
      " [3.8990007e-07 3.3873286e-02 9.6612632e-01]]\n"
     ]
    }
   ],
   "source": [
    "print(model.predict(X_data[-5:]))"
   ]
  },
  {
   "cell_type": "code",
   "execution_count": 29,
   "metadata": {
    "colab": {
     "base_uri": "https://localhost:8080/",
     "height": 204
    },
    "executionInfo": {
     "elapsed": 596,
     "status": "ok",
     "timestamp": 1610082174475,
     "user": {
      "displayName": "Mark Lee",
      "photoUrl": "",
      "userId": "02138563481255471999"
     },
     "user_tz": -540
    },
    "id": "JDbb_d8RYB4G",
    "outputId": "33136de5-be0a-4fd3-bfe5-4c04a5449541"
   },
   "outputs": [
    {
     "data": {
      "text/html": [
       "<div>\n",
       "<style scoped>\n",
       "    .dataframe tbody tr th:only-of-type {\n",
       "        vertical-align: middle;\n",
       "    }\n",
       "\n",
       "    .dataframe tbody tr th {\n",
       "        vertical-align: top;\n",
       "    }\n",
       "\n",
       "    .dataframe thead th {\n",
       "        text-align: right;\n",
       "    }\n",
       "</style>\n",
       "<table border=\"1\" class=\"dataframe\">\n",
       "  <thead>\n",
       "    <tr style=\"text-align: right;\">\n",
       "      <th></th>\n",
       "      <th>품종_setosa</th>\n",
       "      <th>품종_versicolor</th>\n",
       "      <th>품종_virginica</th>\n",
       "    </tr>\n",
       "  </thead>\n",
       "  <tbody>\n",
       "    <tr>\n",
       "      <th>145</th>\n",
       "      <td>0</td>\n",
       "      <td>0</td>\n",
       "      <td>1</td>\n",
       "    </tr>\n",
       "    <tr>\n",
       "      <th>146</th>\n",
       "      <td>0</td>\n",
       "      <td>0</td>\n",
       "      <td>1</td>\n",
       "    </tr>\n",
       "    <tr>\n",
       "      <th>147</th>\n",
       "      <td>0</td>\n",
       "      <td>0</td>\n",
       "      <td>1</td>\n",
       "    </tr>\n",
       "    <tr>\n",
       "      <th>148</th>\n",
       "      <td>0</td>\n",
       "      <td>0</td>\n",
       "      <td>1</td>\n",
       "    </tr>\n",
       "    <tr>\n",
       "      <th>149</th>\n",
       "      <td>0</td>\n",
       "      <td>0</td>\n",
       "      <td>1</td>\n",
       "    </tr>\n",
       "  </tbody>\n",
       "</table>\n",
       "</div>"
      ],
      "text/plain": [
       "     품종_setosa  품종_versicolor  품종_virginica\n",
       "145          0              0             1\n",
       "146          0              0             1\n",
       "147          0              0             1\n",
       "148          0              0             1\n",
       "149          0              0             1"
      ]
     },
     "execution_count": 29,
     "metadata": {
      "tags": []
     },
     "output_type": "execute_result"
    }
   ],
   "source": [
    "y_data[-5:]"
   ]
  }
 ],
 "metadata": {
  "colab": {
   "authorship_tag": "ABX9TyPoVNhb01BAY7z6eH6Ld49/",
   "name": "05.HiddenLayer.ipynb",
   "provenance": []
  },
  "kernelspec": {
   "display_name": "Python 3",
   "language": "python",
   "name": "python3"
  },
  "language_info": {
   "codemirror_mode": {
    "name": "ipython",
    "version": 3
   },
   "file_extension": ".py",
   "mimetype": "text/x-python",
   "name": "python",
   "nbconvert_exporter": "python",
   "pygments_lexer": "ipython3",
   "version": "3.8.3"
  }
 },
 "nbformat": 4,
 "nbformat_minor": 1
}
