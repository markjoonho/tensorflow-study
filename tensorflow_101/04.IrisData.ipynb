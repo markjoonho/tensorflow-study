{
 "cells": [
  {
   "cell_type": "markdown",
   "metadata": {
    "id": "5VxmPmvkDZbo"
   },
   "source": [
    "1. Preparing Past data"
   ]
  },
  {
   "cell_type": "code",
   "execution_count": 3,
   "metadata": {
    "colab": {
     "base_uri": "https://localhost:8080/",
     "height": 204
    },
    "executionInfo": {
     "elapsed": 947,
     "status": "ok",
     "timestamp": 1610077076676,
     "user": {
      "displayName": "Mark Lee",
      "photoUrl": "",
      "userId": "02138563481255471999"
     },
     "user_tz": -540
    },
    "id": "cEtHmtS_DZzd",
    "outputId": "71fee6ea-2626-4fdc-8f90-422e53aefb8c"
   },
   "outputs": [
    {
     "data": {
      "text/html": [
       "<div>\n",
       "<style scoped>\n",
       "    .dataframe tbody tr th:only-of-type {\n",
       "        vertical-align: middle;\n",
       "    }\n",
       "\n",
       "    .dataframe tbody tr th {\n",
       "        vertical-align: top;\n",
       "    }\n",
       "\n",
       "    .dataframe thead th {\n",
       "        text-align: right;\n",
       "    }\n",
       "</style>\n",
       "<table border=\"1\" class=\"dataframe\">\n",
       "  <thead>\n",
       "    <tr style=\"text-align: right;\">\n",
       "      <th></th>\n",
       "      <th>꽃잎길이</th>\n",
       "      <th>꽃잎폭</th>\n",
       "      <th>꽃받침길이</th>\n",
       "      <th>꽃받침폭</th>\n",
       "      <th>품종</th>\n",
       "    </tr>\n",
       "  </thead>\n",
       "  <tbody>\n",
       "    <tr>\n",
       "      <th>0</th>\n",
       "      <td>5.1</td>\n",
       "      <td>3.5</td>\n",
       "      <td>1.4</td>\n",
       "      <td>0.2</td>\n",
       "      <td>setosa</td>\n",
       "    </tr>\n",
       "    <tr>\n",
       "      <th>1</th>\n",
       "      <td>4.9</td>\n",
       "      <td>3.0</td>\n",
       "      <td>1.4</td>\n",
       "      <td>0.2</td>\n",
       "      <td>setosa</td>\n",
       "    </tr>\n",
       "    <tr>\n",
       "      <th>2</th>\n",
       "      <td>4.7</td>\n",
       "      <td>3.2</td>\n",
       "      <td>1.3</td>\n",
       "      <td>0.2</td>\n",
       "      <td>setosa</td>\n",
       "    </tr>\n",
       "    <tr>\n",
       "      <th>3</th>\n",
       "      <td>4.6</td>\n",
       "      <td>3.1</td>\n",
       "      <td>1.5</td>\n",
       "      <td>0.2</td>\n",
       "      <td>setosa</td>\n",
       "    </tr>\n",
       "    <tr>\n",
       "      <th>4</th>\n",
       "      <td>5.0</td>\n",
       "      <td>3.6</td>\n",
       "      <td>1.4</td>\n",
       "      <td>0.2</td>\n",
       "      <td>setosa</td>\n",
       "    </tr>\n",
       "  </tbody>\n",
       "</table>\n",
       "</div>"
      ],
      "text/plain": [
       "   꽃잎길이  꽃잎폭  꽃받침길이  꽃받침폭      품종\n",
       "0   5.1  3.5    1.4   0.2  setosa\n",
       "1   4.9  3.0    1.4   0.2  setosa\n",
       "2   4.7  3.2    1.3   0.2  setosa\n",
       "3   4.6  3.1    1.5   0.2  setosa\n",
       "4   5.0  3.6    1.4   0.2  setosa"
      ]
     },
     "execution_count": 3,
     "metadata": {
      "tags": []
     },
     "output_type": "execute_result"
    }
   ],
   "source": [
    "import pandas as pd\n",
    "url = \"https://raw.githubusercontent.com/blackdew/tensorflow1/master/csv/iris.csv\"\n",
    "data = pd.read_csv(url)\n",
    "data.head()"
   ]
  },
  {
   "cell_type": "code",
   "execution_count": 4,
   "metadata": {
    "colab": {
     "base_uri": "https://localhost:8080/",
     "height": 204
    },
    "executionInfo": {
     "elapsed": 961,
     "status": "ok",
     "timestamp": 1610077078255,
     "user": {
      "displayName": "Mark Lee",
      "photoUrl": "",
      "userId": "02138563481255471999"
     },
     "user_tz": -540
    },
    "id": "2u97Gl51EgZC",
    "outputId": "05bfb4c7-50a7-4bd2-8bd6-5669c01f842b"
   },
   "outputs": [
    {
     "data": {
      "text/html": [
       "<div>\n",
       "<style scoped>\n",
       "    .dataframe tbody tr th:only-of-type {\n",
       "        vertical-align: middle;\n",
       "    }\n",
       "\n",
       "    .dataframe tbody tr th {\n",
       "        vertical-align: top;\n",
       "    }\n",
       "\n",
       "    .dataframe thead th {\n",
       "        text-align: right;\n",
       "    }\n",
       "</style>\n",
       "<table border=\"1\" class=\"dataframe\">\n",
       "  <thead>\n",
       "    <tr style=\"text-align: right;\">\n",
       "      <th></th>\n",
       "      <th>꽃잎길이</th>\n",
       "      <th>꽃잎폭</th>\n",
       "      <th>꽃받침길이</th>\n",
       "      <th>꽃받침폭</th>\n",
       "      <th>품종_setosa</th>\n",
       "      <th>품종_versicolor</th>\n",
       "      <th>품종_virginica</th>\n",
       "    </tr>\n",
       "  </thead>\n",
       "  <tbody>\n",
       "    <tr>\n",
       "      <th>0</th>\n",
       "      <td>5.1</td>\n",
       "      <td>3.5</td>\n",
       "      <td>1.4</td>\n",
       "      <td>0.2</td>\n",
       "      <td>1</td>\n",
       "      <td>0</td>\n",
       "      <td>0</td>\n",
       "    </tr>\n",
       "    <tr>\n",
       "      <th>1</th>\n",
       "      <td>4.9</td>\n",
       "      <td>3.0</td>\n",
       "      <td>1.4</td>\n",
       "      <td>0.2</td>\n",
       "      <td>1</td>\n",
       "      <td>0</td>\n",
       "      <td>0</td>\n",
       "    </tr>\n",
       "    <tr>\n",
       "      <th>2</th>\n",
       "      <td>4.7</td>\n",
       "      <td>3.2</td>\n",
       "      <td>1.3</td>\n",
       "      <td>0.2</td>\n",
       "      <td>1</td>\n",
       "      <td>0</td>\n",
       "      <td>0</td>\n",
       "    </tr>\n",
       "    <tr>\n",
       "      <th>3</th>\n",
       "      <td>4.6</td>\n",
       "      <td>3.1</td>\n",
       "      <td>1.5</td>\n",
       "      <td>0.2</td>\n",
       "      <td>1</td>\n",
       "      <td>0</td>\n",
       "      <td>0</td>\n",
       "    </tr>\n",
       "    <tr>\n",
       "      <th>4</th>\n",
       "      <td>5.0</td>\n",
       "      <td>3.6</td>\n",
       "      <td>1.4</td>\n",
       "      <td>0.2</td>\n",
       "      <td>1</td>\n",
       "      <td>0</td>\n",
       "      <td>0</td>\n",
       "    </tr>\n",
       "  </tbody>\n",
       "</table>\n",
       "</div>"
      ],
      "text/plain": [
       "   꽃잎길이  꽃잎폭  꽃받침길이  꽃받침폭  품종_setosa  품종_versicolor  품종_virginica\n",
       "0   5.1  3.5    1.4   0.2          1              0             0\n",
       "1   4.9  3.0    1.4   0.2          1              0             0\n",
       "2   4.7  3.2    1.3   0.2          1              0             0\n",
       "3   4.6  3.1    1.5   0.2          1              0             0\n",
       "4   5.0  3.6    1.4   0.2          1              0             0"
      ]
     },
     "execution_count": 4,
     "metadata": {
      "tags": []
     },
     "output_type": "execute_result"
    }
   ],
   "source": [
    "# one-hot encoding\n",
    "encoding = pd.get_dummies(data)\n",
    "encoding.head()"
   ]
  },
  {
   "cell_type": "code",
   "execution_count": 11,
   "metadata": {
    "colab": {
     "base_uri": "https://localhost:8080/"
    },
    "executionInfo": {
     "elapsed": 890,
     "status": "ok",
     "timestamp": 1610077251261,
     "user": {
      "displayName": "Mark Lee",
      "photoUrl": "",
      "userId": "02138563481255471999"
     },
     "user_tz": -540
    },
    "id": "jnW4NV1IEBrC",
    "outputId": "c69120e5-e568-4388-d2c9-3258a2c20f61"
   },
   "outputs": [
    {
     "name": "stdout",
     "output_type": "stream",
     "text": [
      "(150, 4) (150, 3)\n"
     ]
    }
   ],
   "source": [
    "features = data.columns.difference(['품종'])\n",
    "X_data = data[features]\n",
    "features_y = encoding.columns.difference(features)\n",
    "y_data = encoding[features_y]\n",
    "print(X_data.shape, y_data.shape)"
   ]
  },
  {
   "cell_type": "code",
   "execution_count": 12,
   "metadata": {
    "colab": {
     "base_uri": "https://localhost:8080/",
     "height": 204
    },
    "executionInfo": {
     "elapsed": 948,
     "status": "ok",
     "timestamp": 1610077300211,
     "user": {
      "displayName": "Mark Lee",
      "photoUrl": "",
      "userId": "02138563481255471999"
     },
     "user_tz": -540
    },
    "id": "wSK3txMXFbzp",
    "outputId": "736769bc-3d33-4865-99b9-0c696d17ec99"
   },
   "outputs": [
    {
     "data": {
      "text/html": [
       "<div>\n",
       "<style scoped>\n",
       "    .dataframe tbody tr th:only-of-type {\n",
       "        vertical-align: middle;\n",
       "    }\n",
       "\n",
       "    .dataframe tbody tr th {\n",
       "        vertical-align: top;\n",
       "    }\n",
       "\n",
       "    .dataframe thead th {\n",
       "        text-align: right;\n",
       "    }\n",
       "</style>\n",
       "<table border=\"1\" class=\"dataframe\">\n",
       "  <thead>\n",
       "    <tr style=\"text-align: right;\">\n",
       "      <th></th>\n",
       "      <th>꽃받침길이</th>\n",
       "      <th>꽃받침폭</th>\n",
       "      <th>꽃잎길이</th>\n",
       "      <th>꽃잎폭</th>\n",
       "    </tr>\n",
       "  </thead>\n",
       "  <tbody>\n",
       "    <tr>\n",
       "      <th>0</th>\n",
       "      <td>1.4</td>\n",
       "      <td>0.2</td>\n",
       "      <td>5.1</td>\n",
       "      <td>3.5</td>\n",
       "    </tr>\n",
       "    <tr>\n",
       "      <th>1</th>\n",
       "      <td>1.4</td>\n",
       "      <td>0.2</td>\n",
       "      <td>4.9</td>\n",
       "      <td>3.0</td>\n",
       "    </tr>\n",
       "    <tr>\n",
       "      <th>2</th>\n",
       "      <td>1.3</td>\n",
       "      <td>0.2</td>\n",
       "      <td>4.7</td>\n",
       "      <td>3.2</td>\n",
       "    </tr>\n",
       "    <tr>\n",
       "      <th>3</th>\n",
       "      <td>1.5</td>\n",
       "      <td>0.2</td>\n",
       "      <td>4.6</td>\n",
       "      <td>3.1</td>\n",
       "    </tr>\n",
       "    <tr>\n",
       "      <th>4</th>\n",
       "      <td>1.4</td>\n",
       "      <td>0.2</td>\n",
       "      <td>5.0</td>\n",
       "      <td>3.6</td>\n",
       "    </tr>\n",
       "  </tbody>\n",
       "</table>\n",
       "</div>"
      ],
      "text/plain": [
       "   꽃받침길이  꽃받침폭  꽃잎길이  꽃잎폭\n",
       "0    1.4   0.2   5.1  3.5\n",
       "1    1.4   0.2   4.9  3.0\n",
       "2    1.3   0.2   4.7  3.2\n",
       "3    1.5   0.2   4.6  3.1\n",
       "4    1.4   0.2   5.0  3.6"
      ]
     },
     "execution_count": 12,
     "metadata": {
      "tags": []
     },
     "output_type": "execute_result"
    }
   ],
   "source": [
    "X_data.head()"
   ]
  },
  {
   "cell_type": "code",
   "execution_count": 13,
   "metadata": {
    "colab": {
     "base_uri": "https://localhost:8080/",
     "height": 204
    },
    "executionInfo": {
     "elapsed": 975,
     "status": "ok",
     "timestamp": 1610077307374,
     "user": {
      "displayName": "Mark Lee",
      "photoUrl": "",
      "userId": "02138563481255471999"
     },
     "user_tz": -540
    },
    "id": "vIm2bh7SFcXX",
    "outputId": "328ea3ca-9402-4907-ff65-873cf036ed7f"
   },
   "outputs": [
    {
     "data": {
      "text/html": [
       "<div>\n",
       "<style scoped>\n",
       "    .dataframe tbody tr th:only-of-type {\n",
       "        vertical-align: middle;\n",
       "    }\n",
       "\n",
       "    .dataframe tbody tr th {\n",
       "        vertical-align: top;\n",
       "    }\n",
       "\n",
       "    .dataframe thead th {\n",
       "        text-align: right;\n",
       "    }\n",
       "</style>\n",
       "<table border=\"1\" class=\"dataframe\">\n",
       "  <thead>\n",
       "    <tr style=\"text-align: right;\">\n",
       "      <th></th>\n",
       "      <th>품종_setosa</th>\n",
       "      <th>품종_versicolor</th>\n",
       "      <th>품종_virginica</th>\n",
       "    </tr>\n",
       "  </thead>\n",
       "  <tbody>\n",
       "    <tr>\n",
       "      <th>0</th>\n",
       "      <td>1</td>\n",
       "      <td>0</td>\n",
       "      <td>0</td>\n",
       "    </tr>\n",
       "    <tr>\n",
       "      <th>1</th>\n",
       "      <td>1</td>\n",
       "      <td>0</td>\n",
       "      <td>0</td>\n",
       "    </tr>\n",
       "    <tr>\n",
       "      <th>2</th>\n",
       "      <td>1</td>\n",
       "      <td>0</td>\n",
       "      <td>0</td>\n",
       "    </tr>\n",
       "    <tr>\n",
       "      <th>3</th>\n",
       "      <td>1</td>\n",
       "      <td>0</td>\n",
       "      <td>0</td>\n",
       "    </tr>\n",
       "    <tr>\n",
       "      <th>4</th>\n",
       "      <td>1</td>\n",
       "      <td>0</td>\n",
       "      <td>0</td>\n",
       "    </tr>\n",
       "  </tbody>\n",
       "</table>\n",
       "</div>"
      ],
      "text/plain": [
       "   품종_setosa  품종_versicolor  품종_virginica\n",
       "0          1              0             0\n",
       "1          1              0             0\n",
       "2          1              0             0\n",
       "3          1              0             0\n",
       "4          1              0             0"
      ]
     },
     "execution_count": 13,
     "metadata": {
      "tags": []
     },
     "output_type": "execute_result"
    }
   ],
   "source": [
    "y_data.head()"
   ]
  },
  {
   "cell_type": "markdown",
   "metadata": {
    "id": "odWqn9zaDZ7Y"
   },
   "source": [
    "2. Make Structure"
   ]
  },
  {
   "cell_type": "code",
   "execution_count": 16,
   "metadata": {
    "executionInfo": {
     "elapsed": 1095,
     "status": "ok",
     "timestamp": 1610079158529,
     "user": {
      "displayName": "Mark Lee",
      "photoUrl": "",
      "userId": "02138563481255471999"
     },
     "user_tz": -540
    },
    "id": "OfwSQl5JDaC8"
   },
   "outputs": [],
   "source": [
    "import tensorflow as tf\n",
    "X = tf.keras.layers.Input([4])\n",
    "Y = tf.keras.layers.Dense(3, activation='softmax')(X)\n",
    "model = tf.keras.models.Model(X, Y)\n",
    "model.compile(loss='categorical_crossentropy', metrics='accuracy')"
   ]
  },
  {
   "cell_type": "markdown",
   "metadata": {
    "id": "7qxc5ou3DaKk"
   },
   "source": [
    "3. Fit Model using Data"
   ]
  },
  {
   "cell_type": "code",
   "execution_count": 19,
   "metadata": {
    "colab": {
     "base_uri": "https://localhost:8080/"
    },
    "executionInfo": {
     "elapsed": 826,
     "status": "ok",
     "timestamp": 1610079208911,
     "user": {
      "displayName": "Mark Lee",
      "photoUrl": "",
      "userId": "02138563481255471999"
     },
     "user_tz": -540
    },
    "id": "sBbn0awiDaR3",
    "outputId": "f6008867-3373-4dd7-cf2b-445b62b09e06"
   },
   "outputs": [
    {
     "name": "stdout",
     "output_type": "stream",
     "text": [
      "Epoch 1/10\n",
      "5/5 [==============================] - 0s 2ms/step - loss: 0.1558 - accuracy: 0.9667\n",
      "Epoch 2/10\n",
      "5/5 [==============================] - 0s 2ms/step - loss: 0.1558 - accuracy: 0.9667\n",
      "Epoch 3/10\n",
      "5/5 [==============================] - 0s 2ms/step - loss: 0.1557 - accuracy: 0.9667\n",
      "Epoch 4/10\n",
      "5/5 [==============================] - 0s 2ms/step - loss: 0.1557 - accuracy: 0.9667\n",
      "Epoch 5/10\n",
      "5/5 [==============================] - 0s 2ms/step - loss: 0.1552 - accuracy: 0.9667\n",
      "Epoch 6/10\n",
      "5/5 [==============================] - 0s 2ms/step - loss: 0.1552 - accuracy: 0.9667\n",
      "Epoch 7/10\n",
      "5/5 [==============================] - 0s 2ms/step - loss: 0.1551 - accuracy: 0.9667\n",
      "Epoch 8/10\n",
      "5/5 [==============================] - 0s 2ms/step - loss: 0.1554 - accuracy: 0.9733\n",
      "Epoch 9/10\n",
      "5/5 [==============================] - 0s 2ms/step - loss: 0.1551 - accuracy: 0.9667\n",
      "Epoch 10/10\n",
      "5/5 [==============================] - 0s 2ms/step - loss: 0.1546 - accuracy: 0.9667\n"
     ]
    },
    {
     "data": {
      "text/plain": [
       "<tensorflow.python.keras.callbacks.History at 0x7fc342304550>"
      ]
     },
     "execution_count": 19,
     "metadata": {
      "tags": []
     },
     "output_type": "execute_result"
    }
   ],
   "source": [
    "model.fit(X_data, y_data, epochs=10)"
   ]
  },
  {
   "cell_type": "markdown",
   "metadata": {
    "id": "x6fLkK3TDacL"
   },
   "source": [
    "4. Use Model"
   ]
  },
  {
   "cell_type": "code",
   "execution_count": 28,
   "metadata": {
    "colab": {
     "base_uri": "https://localhost:8080/"
    },
    "executionInfo": {
     "elapsed": 918,
     "status": "ok",
     "timestamp": 1610079413400,
     "user": {
      "displayName": "Mark Lee",
      "photoUrl": "",
      "userId": "02138563481255471999"
     },
     "user_tz": -540
    },
    "id": "1TGxGu8EDak1",
    "outputId": "68e020f6-37db-410d-9d28-bc69d37afdc9"
   },
   "outputs": [
    {
     "data": {
      "text/plain": [
       "array([[9.9917787e-01, 8.2204939e-04, 4.5773465e-08],\n",
       "       [9.9683577e-01, 3.1637724e-03, 4.7808720e-07],\n",
       "       [9.9838519e-01, 1.6146876e-03, 1.6906704e-07],\n",
       "       [9.9531305e-01, 4.6861605e-03, 7.7671774e-07],\n",
       "       [9.9929249e-01, 7.0742652e-04, 3.4714464e-08]], dtype=float32)"
      ]
     },
     "execution_count": 28,
     "metadata": {
      "tags": []
     },
     "output_type": "execute_result"
    }
   ],
   "source": [
    "model.predict(X_data[0:5])"
   ]
  },
  {
   "cell_type": "code",
   "execution_count": 30,
   "metadata": {
    "colab": {
     "base_uri": "https://localhost:8080/"
    },
    "executionInfo": {
     "elapsed": 874,
     "status": "ok",
     "timestamp": 1610079444736,
     "user": {
      "displayName": "Mark Lee",
      "photoUrl": "",
      "userId": "02138563481255471999"
     },
     "user_tz": -540
    },
    "id": "cWi2B9SRM2q4",
    "outputId": "286a8a42-5d94-43ad-817b-8468c8c4c55b"
   },
   "outputs": [
    {
     "name": "stdout",
     "output_type": "stream",
     "text": [
      "   품종_setosa  품종_versicolor  품종_virginica\n",
      "0          1              0             0\n",
      "1          1              0             0\n",
      "2          1              0             0\n",
      "3          1              0             0\n",
      "4          1              0             0\n"
     ]
    }
   ],
   "source": [
    "print(y_data[0:5])"
   ]
  },
  {
   "cell_type": "code",
   "execution_count": 31,
   "metadata": {
    "colab": {
     "base_uri": "https://localhost:8080/"
    },
    "executionInfo": {
     "elapsed": 984,
     "status": "ok",
     "timestamp": 1610079462152,
     "user": {
      "displayName": "Mark Lee",
      "photoUrl": "",
      "userId": "02138563481255471999"
     },
     "user_tz": -540
    },
    "id": "nA3SGaf0NnVD",
    "outputId": "224b7edb-5623-4c80-c5d2-d090889bf50a"
   },
   "outputs": [
    {
     "data": {
      "text/plain": [
       "array([[6.9543358e-07, 9.2890285e-02, 9.0710908e-01],\n",
       "       [1.3666970e-06, 1.5572615e-01, 8.4427249e-01],\n",
       "       [2.7500394e-06, 2.1651991e-01, 7.8347731e-01],\n",
       "       [6.7499184e-07, 1.1365934e-01, 8.8634002e-01],\n",
       "       [5.6333847e-06, 3.1986141e-01, 6.8013293e-01]], dtype=float32)"
      ]
     },
     "execution_count": 31,
     "metadata": {
      "tags": []
     },
     "output_type": "execute_result"
    }
   ],
   "source": [
    "model.predict(X_data[-5:])"
   ]
  },
  {
   "cell_type": "code",
   "execution_count": 33,
   "metadata": {
    "colab": {
     "base_uri": "https://localhost:8080/"
    },
    "executionInfo": {
     "elapsed": 1127,
     "status": "ok",
     "timestamp": 1610079493887,
     "user": {
      "displayName": "Mark Lee",
      "photoUrl": "",
      "userId": "02138563481255471999"
     },
     "user_tz": -540
    },
    "id": "NvV-BPmCNt8I",
    "outputId": "6fa3c6f9-596c-4e3c-d67f-1953a25e8f3b"
   },
   "outputs": [
    {
     "name": "stdout",
     "output_type": "stream",
     "text": [
      "     품종_setosa  품종_versicolor  품종_virginica\n",
      "145          0              0             1\n",
      "146          0              0             1\n",
      "147          0              0             1\n",
      "148          0              0             1\n",
      "149          0              0             1\n"
     ]
    }
   ],
   "source": [
    "print(y_data[-5:])"
   ]
  },
  {
   "cell_type": "code",
   "execution_count": 34,
   "metadata": {
    "colab": {
     "base_uri": "https://localhost:8080/"
    },
    "executionInfo": {
     "elapsed": 842,
     "status": "ok",
     "timestamp": 1610079514466,
     "user": {
      "displayName": "Mark Lee",
      "photoUrl": "",
      "userId": "02138563481255471999"
     },
     "user_tz": -540
    },
    "id": "vxkW8g7NNxpU",
    "outputId": "1693ca79-0d22-4494-9414-5f32aa939dec"
   },
   "outputs": [
    {
     "data": {
      "text/plain": [
       "[array([[-4.5614953 , -0.8253626 ,  0.31575474],\n",
       "        [-3.9872808 , -1.6552266 ,  2.003067  ],\n",
       "        [ 0.7368041 , -0.11841968, -0.6419398 ],\n",
       "        [ 3.372377  ,  1.014333  , -0.7729976 ]], dtype=float32),\n",
       " array([ 1.6340873,  1.4489986, -1.7504666], dtype=float32)]"
      ]
     },
     "execution_count": 34,
     "metadata": {
      "tags": []
     },
     "output_type": "execute_result"
    }
   ],
   "source": [
    "model.get_weights()"
   ]
  },
  {
   "cell_type": "code",
   "execution_count": null,
   "metadata": {
    "id": "Xe_qiiEuN6vx"
   },
   "outputs": [],
   "source": []
  }
 ],
 "metadata": {
  "colab": {
   "authorship_tag": "ABX9TyOe8dCtlQiR7h4PhYGekGCh",
   "collapsed_sections": [],
   "name": "04.IrisData.ipynb",
   "provenance": []
  },
  "kernelspec": {
   "display_name": "Python 3",
   "language": "python",
   "name": "python3"
  },
  "language_info": {
   "codemirror_mode": {
    "name": "ipython",
    "version": 3
   },
   "file_extension": ".py",
   "mimetype": "text/x-python",
   "name": "python",
   "nbconvert_exporter": "python",
   "pygments_lexer": "ipython3",
   "version": "3.8.3"
  }
 },
 "nbformat": 4,
 "nbformat_minor": 1
}
